{
 "cells": [
  {
   "cell_type": "code",
   "execution_count": 1,
   "id": "c6d0a3e5",
   "metadata": {},
   "outputs": [],
   "source": [
    "# <aside>\n",
    "# 💡 **Q1.** Given an array of integers nums and an integer target, return indices of the two numbers such that they add up to target.\n",
    "\n",
    "# You may assume that each input would have exactly one solution, and you may not use the same element twice.\n",
    "\n",
    "# You can return the answer in any order.\n",
    "\n",
    "# **Example:**\n",
    "# Input: nums = [2,7,11,15], target = 9\n",
    "# Output0 [0,1]\n",
    "\n",
    "# **Explanation:** Because nums[0] + nums[1] == 9, we return [0, 1][\n",
    "\n",
    "# </aside>"
   ]
  },
  {
   "cell_type": "code",
   "execution_count": null,
   "id": "72a5cd50",
   "metadata": {},
   "outputs": [],
   "source": []
  },
  {
   "cell_type": "code",
   "execution_count": null,
   "id": "e1aff880",
   "metadata": {},
   "outputs": [],
   "source": []
  },
  {
   "cell_type": "code",
   "execution_count": 4,
   "id": "32bc1703",
   "metadata": {},
   "outputs": [
    {
     "name": "stdout",
     "output_type": "stream",
     "text": [
      "2 7 11 15\n",
      "9\n"
     ]
    }
   ],
   "source": [
    "arr = list(map(int,input().split()))\n",
    "target = int(input())"
   ]
  },
  {
   "cell_type": "code",
   "execution_count": 5,
   "id": "085bf621",
   "metadata": {},
   "outputs": [
    {
     "name": "stdout",
     "output_type": "stream",
     "text": [
      "0 1\n"
     ]
    }
   ],
   "source": [
    "#1\n",
    "for i in range(len(arr)):\n",
    "    for j in range(i+1,len(arr)):\n",
    "        if arr[j]+arr[i]==target:\n",
    "            print(arr.index(arr[i]),arr.index(arr[j]))"
   ]
  },
  {
   "cell_type": "code",
   "execution_count": 6,
   "id": "8a351223",
   "metadata": {},
   "outputs": [
    {
     "name": "stdout",
     "output_type": "stream",
     "text": [
      "0 1\n"
     ]
    }
   ],
   "source": [
    "#2\n",
    "for i in arr:\n",
    "    if target-i in arr:\n",
    "        print(arr.index(i),arr.index(target-i))\n",
    "        break"
   ]
  },
  {
   "cell_type": "code",
   "execution_count": 25,
   "id": "28e691ea",
   "metadata": {},
   "outputs": [],
   "source": [
    "# <aside>\n",
    "# 💡 **Q2.** Given an integer array nums and an integer val, remove all occurrences of val in nums in-place. The order of the elements may be changed. Then return the number of elements in nums which are not equal to val.\n",
    "\n",
    "# Consider the number of elements in nums which are not equal to val be k, to get accepted, you need to do the following things:\n",
    "\n",
    "# - Change the array nums such that the first k elements of nums contain the elements which are not equal to val. The remaining elements of nums are not important as well as the size of nums.\n",
    "# - Return k.\n",
    "\n",
    "# **Example :**\n",
    "# Input: nums = [3,2,2,3], val = 3\n",
    "# Output: 2, nums = [2,2,_*,_*]\n",
    "\n",
    "# **Explanation:** Your function should return k = 2, with the first two elements of nums being 2. It does not matter what you leave beyond the returned k (hence they are underscores)[\n",
    "\n",
    "# </aside>"
   ]
  },
  {
   "cell_type": "code",
   "execution_count": 120,
   "id": "1529d2c3",
   "metadata": {},
   "outputs": [
    {
     "name": "stdout",
     "output_type": "stream",
     "text": [
      "3 5 2 9 2 2 2\n",
      "2\n"
     ]
    }
   ],
   "source": [
    "arr = list(map(int,input().split()))\n",
    "tar  = int(input())"
   ]
  },
  {
   "cell_type": "code",
   "execution_count": 125,
   "id": "4042dd1c",
   "metadata": {},
   "outputs": [
    {
     "name": "stdout",
     "output_type": "stream",
     "text": [
      "3 [3, 5, 9, '_', '_', '_', '_']\n"
     ]
    }
   ],
   "source": [
    "new=[]\n",
    "new2=[]\n",
    "for i in range(len(arr)):\n",
    "    if arr[i]==tar:\n",
    "        new2.append('_')\n",
    "    else:\n",
    "        new.append(arr[i])\n",
    "print(len(new),new+new2)"
   ]
  },
  {
   "cell_type": "code",
   "execution_count": null,
   "id": "2b856e08",
   "metadata": {},
   "outputs": [],
   "source": []
  },
  {
   "cell_type": "code",
   "execution_count": 197,
   "id": "33f51838",
   "metadata": {},
   "outputs": [],
   "source": [
    "# <aside>\n",
    "# 💡 **Q3.** Given a sorted array of distinct integers and a target value, return the index if the target is found. If not, return the index where it would be if it were inserted in order.\n",
    "\n",
    "# You must write an algorithm with O(log n) runtime complexity.\n",
    "\n",
    "# **Example 1:**\n",
    "# Input: nums = [1,3,5,6], target = 5\n",
    "\n",
    "# Output: 2\n",
    "\n",
    "# </aside>"
   ]
  },
  {
   "cell_type": "code",
   "execution_count": 207,
   "id": "7b9d92a9",
   "metadata": {},
   "outputs": [],
   "source": [
    "def fun(nums,tar):\n",
    "    for i,j in enumerate(nums):\n",
    "        if j==tar:\n",
    "            return f'{i} is a index of target element'\n",
    "        else:\n",
    "            pass\n",
    "    return 'No target element'\n",
    "    "
   ]
  },
  {
   "cell_type": "code",
   "execution_count": 208,
   "id": "cbfa03c4",
   "metadata": {},
   "outputs": [
    {
     "data": {
      "text/plain": [
       "'2 is a index of target element'"
      ]
     },
     "execution_count": 208,
     "metadata": {},
     "output_type": "execute_result"
    }
   ],
   "source": [
    "nums = [1,3,5,6]\n",
    "target = 5\n",
    "fun(nums,target)"
   ]
  },
  {
   "cell_type": "code",
   "execution_count": null,
   "id": "89e223de",
   "metadata": {},
   "outputs": [],
   "source": []
  },
  {
   "cell_type": "code",
   "execution_count": 209,
   "id": "c6fbee0d",
   "metadata": {},
   "outputs": [],
   "source": [
    "#2\n",
    "def searchInsert(nums, target):\n",
    "    left = 0\n",
    "    right = len(nums) - 1\n",
    "\n",
    "    while left <= right:\n",
    "        mid = left + (right - left) // 2\n",
    "\n",
    "        if nums[mid] == target:\n",
    "            return mid\n",
    "        elif nums[mid] < target:\n",
    "            left = mid + 1\n",
    "        else:\n",
    "            right = mid - 1\n",
    "\n",
    "    return left\n"
   ]
  },
  {
   "cell_type": "code",
   "execution_count": 210,
   "id": "7c76cb8f",
   "metadata": {},
   "outputs": [
    {
     "name": "stdout",
     "output_type": "stream",
     "text": [
      "Output: 2\n"
     ]
    }
   ],
   "source": [
    "nums = [1, 3, 5, 6]\n",
    "target = 5\n",
    "result = searchInsert(nums, target)\n",
    "print(\"Output:\", result)\n"
   ]
  },
  {
   "cell_type": "code",
   "execution_count": null,
   "id": "571fea5e",
   "metadata": {},
   "outputs": [],
   "source": []
  },
  {
   "cell_type": "code",
   "execution_count": null,
   "id": "dc156257",
   "metadata": {},
   "outputs": [],
   "source": [
    "# <aside>\n",
    "# 💡 **Q4.** You are given a large integer represented as an integer array digits, where each digits[i] is the ith digit of the integer. The digits are ordered from most significant to least significant in left-to-right order. The large integer does not contain any leading 0's.\n",
    "\n",
    "# Increment the large integer by one and return the resulting array of digits.\n",
    "\n",
    "# **Example 1:**\n",
    "# Input: digits = [1,2,3]\n",
    "# Output: [1,2,4]\n",
    "\n",
    "# **Explanation:** The array represents the integer 123.\n",
    "\n",
    "# Incrementing by one gives 123 + 1 = 124.\n",
    "# Thus, the result should be [1,2,4].\n",
    "\n",
    "# </aside>"
   ]
  },
  {
   "cell_type": "code",
   "execution_count": 57,
   "id": "369f19cb",
   "metadata": {},
   "outputs": [],
   "source": [
    "def increment(digits):\n",
    "    if digits[-1]!=9:\n",
    "        digits[-1] = digits[-1] + 1\n",
    "    else:\n",
    "        digits[-2] = digits[-2]+1\n",
    "        digits[-1] = 0\n",
    "    \n",
    "    return digits"
   ]
  },
  {
   "cell_type": "code",
   "execution_count": 61,
   "id": "7b04e21b",
   "metadata": {},
   "outputs": [
    {
     "name": "stdout",
     "output_type": "stream",
     "text": [
      "Output: [1, 2, 4]\n"
     ]
    }
   ],
   "source": [
    "digits = [1, 2,3]\n",
    "result = increment(digits)\n",
    "print(\"Output:\", result)"
   ]
  },
  {
   "cell_type": "code",
   "execution_count": null,
   "id": "6972e774",
   "metadata": {},
   "outputs": [],
   "source": []
  },
  {
   "cell_type": "code",
   "execution_count": 211,
   "id": "0311acf8",
   "metadata": {},
   "outputs": [],
   "source": [
    "# <aside>\n",
    "# 💡 **Q5.** You are given two integer arrays nums1 and nums2, sorted in non-decreasing order, and two integers m and n, representing the number of elements in nums1 and nums2 respectively.\n",
    "\n",
    "# Merge nums1 and nums2 into a single array sorted in non-decreasing order.\n",
    "\n",
    "# The final sorted array should not be returned by the function, but instead be stored inside the array nums1. To accommodate this, nums1 has a length of m + n, where the first m elements denote the elements that should be merged, and the last n elements are set to 0 and should be ignored. nums2 has a length of n.\n",
    "\n",
    "# **Example 1:**\n",
    "# Input: nums1 = [1,2,3,0,0,0], m = 3, nums2 = [2,5,6], n = 3\n",
    "# Output: [1,2,2,3,5,6]\n",
    "\n",
    "# **Explanation:** The arrays we are merging are [1,2,3] and [2,5,6].\n",
    "# The result of the merge is [1,2,2,3,5,6] with the underlined elements coming from nums1.\n",
    "\n",
    "# </aside>"
   ]
  },
  {
   "cell_type": "code",
   "execution_count": null,
   "id": "1fb262da",
   "metadata": {},
   "outputs": [],
   "source": []
  },
  {
   "cell_type": "code",
   "execution_count": 310,
   "id": "8800c4ac",
   "metadata": {},
   "outputs": [],
   "source": [
    "def fun5(nums1,m,nums2,n):\n",
    "    for i in range(len(nums2)):\n",
    "        nums1[m+i] = nums2[i]\n",
    "    return sorted(nums1)"
   ]
  },
  {
   "cell_type": "code",
   "execution_count": 311,
   "id": "02c292cc",
   "metadata": {},
   "outputs": [
    {
     "data": {
      "text/plain": [
       "[1, 2, 2, 3, 5, 6]"
      ]
     },
     "execution_count": 311,
     "metadata": {},
     "output_type": "execute_result"
    }
   ],
   "source": [
    "nums1 = [1,2,3,0,0,0]\n",
    "nums2 = [2,5,6]\n",
    "fun5(nums1,3,nums2,3)"
   ]
  },
  {
   "cell_type": "code",
   "execution_count": null,
   "id": "89766671",
   "metadata": {},
   "outputs": [],
   "source": []
  },
  {
   "cell_type": "code",
   "execution_count": 158,
   "id": "bfd1c9a0",
   "metadata": {},
   "outputs": [],
   "source": [
    "# <aside>\n",
    "# 💡 **Q6.** Given an integer array nums, return true if any value appears at least twice in the array, and return false if every element is distinct.\n",
    "\n",
    "# **Example 1:**\n",
    "# Input: nums = [1,2,3,1]\n",
    "\n",
    "# Output: true\n",
    "\n",
    "# </aside>"
   ]
  },
  {
   "cell_type": "code",
   "execution_count": 180,
   "id": "ddf740be",
   "metadata": {},
   "outputs": [],
   "source": [
    "nums = [1,3,2,1]"
   ]
  },
  {
   "cell_type": "code",
   "execution_count": 181,
   "id": "e446d1b2",
   "metadata": {},
   "outputs": [
    {
     "data": {
      "text/plain": [
       "True"
      ]
     },
     "execution_count": 181,
     "metadata": {},
     "output_type": "execute_result"
    }
   ],
   "source": [
    "d={}\n",
    "for i in nums:\n",
    "    if i in d:\n",
    "        d[i]+=1\n",
    "    else:\n",
    "        d[i]=1\n",
    "sorted(d.items(),key = lambda x :x[1],reverse=True)[0][1]>=2"
   ]
  },
  {
   "cell_type": "code",
   "execution_count": null,
   "id": "7f537441",
   "metadata": {},
   "outputs": [],
   "source": [
    "\n",
    "    "
   ]
  },
  {
   "cell_type": "code",
   "execution_count": 187,
   "id": "9cbe1cb7",
   "metadata": {},
   "outputs": [],
   "source": [
    "# 2\n",
    "def containduplicate(nums):\n",
    "    new = []\n",
    "    \n",
    "    for i in nums:\n",
    "        if i in new:\n",
    "            return True\n",
    "        new.append(i)\n",
    "        \n",
    "    return False"
   ]
  },
  {
   "cell_type": "code",
   "execution_count": 189,
   "id": "96e14517",
   "metadata": {},
   "outputs": [
    {
     "data": {
      "text/plain": [
       "False"
      ]
     },
     "execution_count": 189,
     "metadata": {},
     "output_type": "execute_result"
    }
   ],
   "source": [
    "nums=[1,2,3,4]\n",
    "containduplicate(nums)"
   ]
  },
  {
   "cell_type": "code",
   "execution_count": 133,
   "id": "18004eb8",
   "metadata": {},
   "outputs": [],
   "source": [
    "# <aside>\n",
    "# 💡 **Q7.** Given an integer array nums, move all 0's to the end of it while maintaining the relative order of the nonzero elements.\n",
    "\n",
    "# Note that you must do this in-place without making a copy of the array.\n",
    "\n",
    "# **Example 1:**\n",
    "# Input: nums = [0,1,0,3,12]\n",
    "# Output: [1,3,12,0,0]\n",
    "\n",
    "# </aside>"
   ]
  },
  {
   "cell_type": "code",
   "execution_count": 190,
   "id": "c1554822",
   "metadata": {},
   "outputs": [],
   "source": [
    "nums=[0,1,0,3,0,12]"
   ]
  },
  {
   "cell_type": "code",
   "execution_count": 191,
   "id": "d59edeaa",
   "metadata": {},
   "outputs": [],
   "source": [
    "for i in range(len(nums)-1):\n",
    "    for j in range(i,len(nums)-1):\n",
    "        if nums[j]==0:\n",
    "            nums[j],nums[j+1]=nums[j+1],nums[j]"
   ]
  },
  {
   "cell_type": "code",
   "execution_count": 192,
   "id": "493e82e2",
   "metadata": {},
   "outputs": [
    {
     "data": {
      "text/plain": [
       "[1, 3, 12, 0, 0, 0]"
      ]
     },
     "execution_count": 192,
     "metadata": {},
     "output_type": "execute_result"
    }
   ],
   "source": [
    "nums"
   ]
  },
  {
   "cell_type": "code",
   "execution_count": null,
   "id": "57a63df4",
   "metadata": {},
   "outputs": [],
   "source": []
  },
  {
   "cell_type": "code",
   "execution_count": 312,
   "id": "dfd1389d",
   "metadata": {},
   "outputs": [
    {
     "name": "stdout",
     "output_type": "stream",
     "text": [
      "[1, 0, 0, 0, 3, 0, 4, 0, 12]\n",
      "[1, 3, 0, 0, 0, 0, 4, 0, 12]\n",
      "[1, 3, 4, 0, 0, 0, 0, 0, 12]\n",
      "[1, 3, 4, 12, 0, 0, 0, 0, 0]\n",
      "Output: [1, 3, 4, 12, 0, 0, 0, 0, 0]\n"
     ]
    }
   ],
   "source": [
    "# 2\n",
    "def moveZeroes(nums):\n",
    "    i = 0  # pointer for nonzero elements\n",
    "    \n",
    "    for j in range(len(nums)):\n",
    "        if nums[j] != 0:\n",
    "            nums[i], nums[j] = nums[j], nums[i]\n",
    "            print(nums)\n",
    "            i += 1\n",
    "\n",
    "# Testing the function with the given example\n",
    "nums = [0,0,1, 0,3,0,4,0, 12]\n",
    "moveZeroes(nums)\n",
    "print(\"Output:\", nums)\n"
   ]
  },
  {
   "cell_type": "code",
   "execution_count": null,
   "id": "a6c88141",
   "metadata": {},
   "outputs": [],
   "source": []
  },
  {
   "cell_type": "code",
   "execution_count": 222,
   "id": "852f8da1",
   "metadata": {},
   "outputs": [],
   "source": [
    "# <aside>\n",
    "# 💡 **Q8.** You have a set of integers s, which originally contains all the numbers from 1 to n. Unfortunately, due to some error, one of the numbers in s got duplicated to another number in the set, which results in repetition of one number and loss of another number.\n",
    "\n",
    "# You are given an integer array nums representing the data status of this set after the error.\n",
    "\n",
    "# Find the number that occurs twice and the number that is missing and return them in the form of an array.\n",
    "\n",
    "# **Example 1:**\n",
    "# Input: nums = [1,2,2,4]\n",
    "# Output: [2,3]\n",
    "\n",
    "# </aside>"
   ]
  },
  {
   "cell_type": "code",
   "execution_count": null,
   "id": "9b5fe4e8",
   "metadata": {},
   "outputs": [],
   "source": []
  },
  {
   "cell_type": "code",
   "execution_count": null,
   "id": "612ff5d8",
   "metadata": {},
   "outputs": [],
   "source": []
  },
  {
   "cell_type": "code",
   "execution_count": 7,
   "id": "700f0151",
   "metadata": {},
   "outputs": [],
   "source": [
    "def findErrorNums(nums):\n",
    "    n = len(nums)\n",
    "    expected_sum = n * (n + 1) // 2\n",
    "    num_set = set()\n",
    "    actual_sum = 0\n",
    "    duplicate_num = 0\n",
    "    for num in nums:\n",
    "        if num in num_set:\n",
    "            duplicate_num = num\n",
    "        num_set.add(num)\n",
    "        actual_sum += num\n",
    "    missing_num = expected_sum - (actual_sum - duplicate_num)\n",
    "    return [duplicate_num, missing_num]\n"
   ]
  },
  {
   "cell_type": "code",
   "execution_count": 11,
   "id": "4e19e653",
   "metadata": {},
   "outputs": [
    {
     "name": "stdout",
     "output_type": "stream",
     "text": [
      "[2, 5]\n"
     ]
    }
   ],
   "source": [
    "nums = [1, 2, 2,4, 3]\n",
    "result = findErrorNums(nums)\n",
    "print(result)  # Output: [2, 3]"
   ]
  },
  {
   "cell_type": "code",
   "execution_count": null,
   "id": "7f7b73f1",
   "metadata": {},
   "outputs": [],
   "source": []
  },
  {
   "cell_type": "code",
   "execution_count": null,
   "id": "1bc450da",
   "metadata": {},
   "outputs": [],
   "source": []
  }
 ],
 "metadata": {
  "kernelspec": {
   "display_name": "Python 3 (ipykernel)",
   "language": "python",
   "name": "python3"
  },
  "language_info": {
   "codemirror_mode": {
    "name": "ipython",
    "version": 3
   },
   "file_extension": ".py",
   "mimetype": "text/x-python",
   "name": "python",
   "nbconvert_exporter": "python",
   "pygments_lexer": "ipython3",
   "version": "3.10.9"
  }
 },
 "nbformat": 4,
 "nbformat_minor": 5
}
